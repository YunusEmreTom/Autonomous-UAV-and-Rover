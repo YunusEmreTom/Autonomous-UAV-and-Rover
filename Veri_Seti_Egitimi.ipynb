{
  "cells": [
    {
      "cell_type": "markdown",
      "metadata": {},
      "source": [
        "# **Veri Seti Eğitimi Yolov5**"
      ]
    },
    {
      "cell_type": "markdown",
      "metadata": {},
      "source": [
        "# **Kurulum**"
      ]
    },
    {
      "cell_type": "code",
      "execution_count": null,
      "metadata": {},
      "outputs": [],
      "source": [
        "#clone YOLOv5 and\n",
        "!git clone https://github.com/ultralytics/yolov5  # repostory'i klonluyoruz\n",
        "%cd yolov5\n",
        "%pip install -qr requirements.txt # gerekli kütüphaneleri install ediyoruz\n",
        "%pip install -q roboflow #roboflow u install ediyoruz\n",
        "\n",
        "import torch\n",
        "import os\n",
        "from IPython.display import Image, clear_output  # resimleri görüntülemek için\n",
        "\n",
        "print(f\"Setup complete. Using torch {torch.__version__} ({torch.cuda.get_device_properties(0).name if torch.cuda.is_available() else 'CPU'})\") #hangi ekran kartını kullandığımızı yazdırıyoruz"
      ]
    },
    {
      "cell_type": "markdown",
      "metadata": {},
      "source": [
        "# **Roboflowu aktif ediyoruz ve roboflowdaki verisetimizi indiriyoruz**"
      ]
    },
    {
      "cell_type": "code",
      "execution_count": null,
      "metadata": {},
      "outputs": [],
      "source": [
        "# Roboflowu kuruyoruz\n",
        "!pip install roboflow\n",
        "from roboflow import Roboflow"
      ]
    },
    {
      "cell_type": "code",
      "execution_count": null,
      "metadata": {},
      "outputs": [],
      "source": [
        "# environment'ı kuruyoruzq\n",
        "os.environ[\"DATASET_DIRECTORY\"] = \"/content/dataset\" #yüklemek istediğiniz dizini buraya giriyorsunuz. Bu dizin colabtaki dosya yoludur!"
      ]
    },
    {
      "cell_type": "code",
      "execution_count": null,
      "metadata": {},
      "outputs": [],
      "source": [
        "#roboflowdan aldığımız api kodlarını kopyalıyoruz ve direk yapıştırıyoruz. Bu hücreyi çalıştırınca datasetimiz indirilecektir. \n",
        "rf = Roboflow(api_key=\"Your-api-key\")\n",
        "project = rf.workspace(\"nameproject\").project(\"namedataset\")\n",
        "version = project.version(\"version\")\n",
        "dataset = version.download(\"yolov8\")\n"
      ]
    },
    {
      "cell_type": "markdown",
      "metadata": {},
      "source": [
        "# **Modelin eğitimine başlıyoruz**"
      ]
    },
    {
      "cell_type": "code",
      "execution_count": null,
      "metadata": {},
      "outputs": [],
      "source": [
        "!pip install ultralytics\n",
        "!pip install super_gradients\n"
      ]
    },
    {
      "cell_type": "code",
      "execution_count": null,
      "metadata": {},
      "outputs": [],
      "source": [
        "from ultralytics import YOLO\n",
        "\n",
        "# YOLOv8 modelini yükle veya yolunu belirle\n",
        "model = YOLO('yolov8n.pt')  # 'yolov8s.pt', 'yolov8m.pt', 'yolov8l.pt', 'yolov8x.pt' gibi diğer modelleri de seçebilirsin.\n",
        "\n",
        "# Modeli eğit\n",
        "model.train(\n",
        "    data=f\"{dataset.location}/data.yaml\",  # Eğitim verisinin yolunu belirt.\n",
        "    epochs=100,                       # Eğitim için epoch sayısı\n",
        "    imgsz=640,                       # Resim boyutu\n",
        "    batch=16,                        # Batch boyutu\n",
        "    name='yolov8_custom'             # Eğitim sonucu oluşturulacak klasör adı\n",
        ")\n",
        "\n"
      ]
    },
    {
      "cell_type": "markdown",
      "metadata": {},
      "source": [
        "# **Modelin başarı oranını grafikler halinde ekrana bastırıyoruz**"
      ]
    },
    {
      "cell_type": "code",
      "execution_count": null,
      "metadata": {},
      "outputs": [],
      "source": [
        "# tensorboard'ı başlatıyoruz\n",
        "\n",
        "#\"runs\" isimli dosyanın içine kaydediyoruz\n",
        "%load_ext tensorboard\n",
        "%tensorboard --logdir runs"
      ]
    },
    {
      "cell_type": "markdown",
      "metadata": {},
      "source": [
        "# **Test verilerimizi deniyoruz**"
      ]
    },
    {
      "cell_type": "code",
      "execution_count": null,
      "metadata": {},
      "outputs": [],
      "source": [
        "#test resimlerimizi modele sokuyoruz ve sonuçlar en sonda belirtilen dosya konumuna kaydediliyor\n",
        "#her farklı resim veya video eklediğinizde en sondaki exp1 exp2 diye artar. runs/detect/exp\n",
        "!python detect.py --weights /content/yolov5/best.pt --img 416 --conf 0.2 --source {dataset.location}/valid/images"
      ]
    },
    {
      "cell_type": "markdown",
      "metadata": {},
      "source": [
        "# **Test verilerinin son halini ekrana bastırıyoruz**"
      ]
    },
    {
      "cell_type": "code",
      "execution_count": null,
      "metadata": {},
      "outputs": [],
      "source": [
        "\n",
        "#modelden çıkmış olan tüm test verilerini ekrana bastırarak sonuçları inceliyoruz.\n",
        "\n",
        "import glob\n",
        "from IPython.display import Image, display\n",
        "\n",
        "i = 0\n",
        "# lütfen glob.glob un içine doğru dosya konumunu yazınız üst satırda en altta yazan results saved to runs/detects/exp1 veya runs/detects/exp2 veya runs/detects/exp3\n",
        "for imageName in glob.glob('/content/yolov5/runs/detect/exp6/*.jpg'): #dosya uzantısını resimlerinizin formatına göre değiştirin jpg olmak zorunda değil.\n",
        "    i += 1\n",
        "\n",
        "    if i < 12:\n",
        "      display(Image(filename=imageName))\n",
        "      print(\"\\n\")"
      ]
    },
    {
      "cell_type": "markdown",
      "metadata": {},
      "source": [
        "# **Modeli kaydediyoruz**"
      ]
    },
    {
      "cell_type": "code",
      "execution_count": null,
      "metadata": {},
      "outputs": [
        {
          "data": {
            "application/javascript": "\n    async function download(id, filename, size) {\n      if (!google.colab.kernel.accessAllowed) {\n        return;\n      }\n      const div = document.createElement('div');\n      const label = document.createElement('label');\n      label.textContent = `Downloading \"${filename}\": `;\n      div.appendChild(label);\n      const progress = document.createElement('progress');\n      progress.max = size;\n      div.appendChild(progress);\n      document.body.appendChild(div);\n\n      const buffers = [];\n      let downloaded = 0;\n\n      const channel = await google.colab.kernel.comms.open(id);\n      // Send a message to notify the kernel that we're ready.\n      channel.send({})\n\n      for await (const message of channel.messages) {\n        // Send a message to notify the kernel that we're ready.\n        channel.send({})\n        if (message.buffers) {\n          for (const buffer of message.buffers) {\n            buffers.push(buffer);\n            downloaded += buffer.byteLength;\n            progress.value = downloaded;\n          }\n        }\n      }\n      const blob = new Blob(buffers, {type: 'application/binary'});\n      const a = document.createElement('a');\n      a.href = window.URL.createObjectURL(blob);\n      a.download = filename;\n      div.appendChild(a);\n      a.click();\n      div.remove();\n    }\n  ",
            "text/plain": [
              "<IPython.core.display.Javascript object>"
            ]
          },
          "metadata": {},
          "output_type": "display_data"
        },
        {
          "data": {
            "application/javascript": "download(\"download_846e6f23-5102-44f0-ae11-869ff5ba4430\", \"best.pt\", 14330933)",
            "text/plain": [
              "<IPython.core.display.Javascript object>"
            ]
          },
          "metadata": {},
          "output_type": "display_data"
        }
      ],
      "source": [
        "#Modelin ağırlıklarını daha sonra kullanmak için bilgisayarımıza kaydediyoruz. Colab içindir.\n",
        "from google.colab import files\n",
        "files.download('./runs/train/exp/weights/best.pt') "
      ]
    }
  ],
  "metadata": {
    "accelerator": "GPU",
    "colab": {
      "gpuType": "T4",
      "include_colab_link": true,
      "provenance": []
    },
    "kernelspec": {
      "display_name": "Python 3",
      "name": "python3"
    },
    "language_info": {
      "name": "python"
    }
  },
  "nbformat": 4,
  "nbformat_minor": 0
}
