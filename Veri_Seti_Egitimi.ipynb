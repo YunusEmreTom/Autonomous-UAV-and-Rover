{
  "cells": [
    {
      "cell_type": "markdown",
      "metadata": {
        "id": "fa6_zCCOM3lg"
      },
      "source": [
        "# **Veri Seti Eğitimi Yolov5**"
      ]
    },
    {
      "cell_type": "markdown",
      "metadata": {
        "id": "5349D-dZNfZ7"
      },
      "source": [
        "# **Kurulum**"
      ]
    },
    {
      "cell_type": "code",
      "execution_count": null,
      "metadata": {
        "colab": {
          "base_uri": "https://localhost:8080/"
        },
        "id": "1OnDIFj5I14z",
        "outputId": "b562db21-2046-4143-ec7e-b9988fd86bee"
      },
      "outputs": [],
      "source": [
        "#clone YOLOv5 and\n",
        "!git clone https://github.com/ultralytics/yolov5  # repostory'i klonluyoruz\n",
        "%cd yolov5\n",
        "%pip install -qr requirements.txt # gerekli kütüphaneleri install ediyoruz\n",
        "%pip install -q roboflow #roboflow u install ediyoruz\n",
        "\n",
        "import torch\n",
        "import os\n",
        "from IPython.display import Image, clear_output  # resimleri görüntülemek için\n",
        "\n",
        "print(f\"Setup complete. Using torch {torch.__version__} ({torch.cuda.get_device_properties(0).name if torch.cuda.is_available() else 'CPU'})\") #hangi ekran kartını kullandığımızı yazdırıyoruz"
      ]
    },
    {
      "cell_type": "markdown",
      "metadata": {
        "id": "21icD9uIQJC-"
      },
      "source": [
        "# **Roboflowu aktif ediyoruz ve roboflowdaki verisetimizi indiriyoruz**"
      ]
    },
    {
      "cell_type": "code",
      "execution_count": null,
      "metadata": {
        "colab": {
          "base_uri": "https://localhost:8080/"
        },
        "id": "6tb2xCTZI9mg",
        "outputId": "5137f504-8dba-4355-9568-435906e392f4"
      },
      "outputs": [],
      "source": [
        "# Roboflowu kuruyoruz\n",
        "!pip install roboflow\n",
        "from roboflow import Roboflow"
      ]
    },
    {
      "cell_type": "code",
      "execution_count": 3,
      "metadata": {
        "id": "lQo-emdNI_eI"
      },
      "outputs": [],
      "source": [
        "# environment'ı kuruyoruzq\n",
        "os.environ[\"DATASET_DIRECTORY\"] = \"/content/dataset\" #yüklemek istediğiniz dizini buraya giriyorsunuz. Bu dizin colabtaki dosya yoludur!"
      ]
    },
    {
      "cell_type": "code",
      "execution_count": null,
      "metadata": {
        "colab": {
          "base_uri": "https://localhost:8080/"
        },
        "id": "4MO-8su2JAvT",
        "outputId": "be864c7b-7cb7-4176-a61c-4b0d07d48765"
      },
      "outputs": [],
      "source": [
        "#roboflowdan aldığımız api kodlarını kopyalıyoruz ve direk yapıştırıyoruz. Bu hücreyi çalıştırınca datasetimiz indirilecektir. \n",
        "rf = Roboflow(api_key=\"Your-api-key\")\n",
        "project = rf.workspace(\"nameproject\").project(\"namedataset\")\n",
        "version = project.version(\"version\")\n",
        "dataset = version.download(\"yolov5\")\n"
      ]
    },
    {
      "cell_type": "markdown",
      "metadata": {
        "id": "oy2O-ZryQSKq"
      },
      "source": [
        "# **Modelin eğitimine başlıyoruz**"
      ]
    },
    {
      "cell_type": "code",
      "execution_count": null,
      "metadata": {
        "colab": {
          "base_uri": "https://localhost:8080/"
        },
        "id": "TT8EiSacJGN5",
        "outputId": "7d92859f-f5f7-44e7-a172-26553aff569c"
      },
      "outputs": [],
      "source": [
        "# 416 resmi 16 lık batchler halinde 100 epochda eğitecek saatler sürebilir lütfen sabırlı olun ve aralıklarla ekranın kapanmaması için ekrana basınız.\n",
        "!python /content/yolov5/train.py --img 640 --batch 16 --epochs 100 --data {dataset.location}/data.yaml --weights yolov5m.pt --cache"
      ]
    },
    {
      "cell_type": "markdown",
      "metadata": {
        "id": "RN1h_qt_QaOJ"
      },
      "source": [
        "# **Modelin başarı oranını grafikler halinde ekrana bastırıyoruz**"
      ]
    },
    {
      "cell_type": "code",
      "execution_count": null,
      "metadata": {
        "id": "hgUGYgY_JGc7"
      },
      "outputs": [],
      "source": [
        "# tensorboard'ı başlatıyoruz\n",
        "\n",
        "#\"runs\" isimli dosyanın içine kaydediyoruz\n",
        "%load_ext tensorboard\n",
        "%tensorboard --logdir runs"
      ]
    },
    {
      "cell_type": "markdown",
      "metadata": {
        "id": "08e_fmiVRF0l"
      },
      "source": [
        "# **Test verilerimizi deniyoruz**"
      ]
    },
    {
      "cell_type": "code",
      "execution_count": null,
      "metadata": {
        "colab": {
          "background_save": true
        },
        "id": "0tUfuHfOJGfL"
      },
      "outputs": [],
      "source": [
        "#test resimlerimizi modele sokuyoruz ve sonuçlar en sonda belirtilen dosya konumuna kaydediliyor\n",
        "#her farklı resim veya video eklediğinizde en sondaki exp1 exp2 diye artar. runs/detect/exp\n",
        "!python detect.py --weights /content/yolov5/best.pt --img 416 --conf 0.2 --source {dataset.location}/valid/images"
      ]
    },
    {
      "cell_type": "markdown",
      "metadata": {
        "id": "SgQLDsdMRRne"
      },
      "source": [
        "# **Test verilerinin son halini ekrana bastırıyoruz**"
      ]
    },
    {
      "cell_type": "code",
      "execution_count": null,
      "metadata": {
        "id": "A9rpsUgXJGhc"
      },
      "outputs": [],
      "source": [
        "\n",
        "#modelden çıkmış olan tüm test verilerini ekrana bastırarak sonuçları inceliyoruz.\n",
        "\n",
        "import glob\n",
        "from IPython.display import Image, display\n",
        "\n",
        "i = 0\n",
        "# lütfen glob.glob un içine doğru dosya konumunu yazınız üst satırda en altta yazan results saved to runs/detects/exp1 veya runs/detects/exp2 veya runs/detects/exp3\n",
        "for imageName in glob.glob('/content/yolov5/runs/detect/exp6/*.jpg'): #dosya uzantısını resimlerinizin formatına göre değiştirin jpg olmak zorunda değil.\n",
        "    i += 1\n",
        "\n",
        "    if i < 12:\n",
        "      display(Image(filename=imageName))\n",
        "      print(\"\\n\")"
      ]
    },
    {
      "cell_type": "markdown",
      "metadata": {
        "id": "Wpvs0T6wRZ81"
      },
      "source": [
        "# **Modeli kaydediyoruz**"
      ]
    },
    {
      "cell_type": "code",
      "execution_count": null,
      "metadata": {
        "colab": {
          "base_uri": "https://localhost:8080/",
          "height": 17
        },
        "id": "g0wTe6M1JGjz",
        "outputId": "fe5de295-b04e-4714-c9cb-7a8c2e29edbf"
      },
      "outputs": [
        {
          "data": {
            "application/javascript": "\n    async function download(id, filename, size) {\n      if (!google.colab.kernel.accessAllowed) {\n        return;\n      }\n      const div = document.createElement('div');\n      const label = document.createElement('label');\n      label.textContent = `Downloading \"${filename}\": `;\n      div.appendChild(label);\n      const progress = document.createElement('progress');\n      progress.max = size;\n      div.appendChild(progress);\n      document.body.appendChild(div);\n\n      const buffers = [];\n      let downloaded = 0;\n\n      const channel = await google.colab.kernel.comms.open(id);\n      // Send a message to notify the kernel that we're ready.\n      channel.send({})\n\n      for await (const message of channel.messages) {\n        // Send a message to notify the kernel that we're ready.\n        channel.send({})\n        if (message.buffers) {\n          for (const buffer of message.buffers) {\n            buffers.push(buffer);\n            downloaded += buffer.byteLength;\n            progress.value = downloaded;\n          }\n        }\n      }\n      const blob = new Blob(buffers, {type: 'application/binary'});\n      const a = document.createElement('a');\n      a.href = window.URL.createObjectURL(blob);\n      a.download = filename;\n      div.appendChild(a);\n      a.click();\n      div.remove();\n    }\n  ",
            "text/plain": [
              "<IPython.core.display.Javascript object>"
            ]
          },
          "metadata": {},
          "output_type": "display_data"
        },
        {
          "data": {
            "application/javascript": "download(\"download_846e6f23-5102-44f0-ae11-869ff5ba4430\", \"best.pt\", 14330933)",
            "text/plain": [
              "<IPython.core.display.Javascript object>"
            ]
          },
          "metadata": {},
          "output_type": "display_data"
        }
      ],
      "source": [
        "#Modelin ağırlıklarını daha sonra kullanmak için bilgisayarımıza kaydediyoruz. Colab içindir.\n",
        "from google.colab import files\n",
        "files.download('./runs/train/exp/weights/best.pt') "
      ]
    }
  ],
  "metadata": {
    "accelerator": "GPU",
    "colab": {
      "gpuType": "T4",
      "include_colab_link": true,
      "provenance": []
    },
    "kernelspec": {
      "display_name": "Python 3",
      "name": "python3"
    },
    "language_info": {
      "name": "python"
    }
  },
  "nbformat": 4,
  "nbformat_minor": 0
}
